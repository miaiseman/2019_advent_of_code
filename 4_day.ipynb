{
 "cells": [
  {
   "cell_type": "markdown",
   "metadata": {},
   "source": [
    "# Day 4: Secure Container\n",
    "\n",
    "You arrive at the Venus fuel depot only to discover it's protected by a password. The Elves had written the password on a sticky note, but someone threw it out.  \n",
    "\n",
    "However, they do remember a few key facts about the password:  \n",
    "\n",
    "It is a six-digit number.  \n",
    "The value is within the range given in your puzzle input.  \n",
    "Two adjacent digits are the same (like 22 in 122345).  \n",
    "Going from left to right, the digits never decrease; they only ever increase or stay the same (like 111123 or 135679).  \n",
    "Other than the range rule, the following are true:  \n",
    "\n",
    "111111 meets these criteria (double 11, never decreases).  \n",
    "223450 does not meet these criteria (decreasing pair of digits 50).  \n",
    "123789 does not meet these criteria (no double). \n",
    "\n",
    "How many different passwords within the range given in your puzzle input meet these criteria?  \n",
    "\n",
    "Your puzzle input is 153517-630395.  "
   ]
  },
  {
   "cell_type": "code",
   "execution_count": 1,
   "metadata": {},
   "outputs": [],
   "source": [
    "import numpy as np\n",
    "import itertools"
   ]
  },
  {
   "cell_type": "code",
   "execution_count": 30,
   "metadata": {},
   "outputs": [
    {
     "data": {
      "text/plain": [
       "476878"
      ]
     },
     "execution_count": 30,
     "metadata": {},
     "output_type": "execute_result"
    }
   ],
   "source": [
    "numbers = list(range(153517, 630395))\n",
    "len(numbers)"
   ]
  },
  {
   "cell_type": "code",
   "execution_count": 31,
   "metadata": {},
   "outputs": [],
   "source": [
    "dd = [] \n",
    "#double digits: at least two adjacent digits are the same"
   ]
  },
  {
   "cell_type": "code",
   "execution_count": 4,
   "metadata": {},
   "outputs": [],
   "source": [
    "rd = []\n",
    "#repeating digits: make a list of numbers that have repeating digits (not even consecutively) "
   ]
  },
  {
   "cell_type": "code",
   "execution_count": 5,
   "metadata": {},
   "outputs": [],
   "source": [
    "string_numbers = list(map(str, numbers))\n",
    "# mia = list(map(np.asarray, string_numbers))"
   ]
  },
  {
   "cell_type": "code",
   "execution_count": 6,
   "metadata": {},
   "outputs": [],
   "source": [
    "input_list = list(map(list, string_numbers))"
   ]
  },
  {
   "cell_type": "code",
   "execution_count": 25,
   "metadata": {},
   "outputs": [],
   "source": [
    "combinations = list(itertools.combinations(range(6), 2))"
   ]
  },
  {
   "cell_type": "code",
   "execution_count": 26,
   "metadata": {},
   "outputs": [
    {
     "data": {
      "text/plain": [
       "[[0, 1],\n",
       " [0, 2],\n",
       " [0, 3],\n",
       " [0, 4],\n",
       " [0, 5],\n",
       " [1, 2],\n",
       " [1, 3],\n",
       " [1, 4],\n",
       " [1, 5],\n",
       " [2, 3],\n",
       " [2, 4],\n",
       " [2, 5],\n",
       " [3, 4],\n",
       " [3, 5],\n",
       " [4, 5]]"
      ]
     },
     "execution_count": 26,
     "metadata": {},
     "output_type": "execute_result"
    }
   ],
   "source": [
    "list(map(list, combinations))"
   ]
  },
  {
   "cell_type": "code",
   "execution_count": 22,
   "metadata": {},
   "outputs": [
    {
     "data": {
      "text/plain": [
       "[0, 1, 2, 3, 4, 5]"
      ]
     },
     "execution_count": 22,
     "metadata": {},
     "output_type": "execute_result"
    }
   ],
   "source": [
    "list(range(6))"
   ]
  },
  {
   "cell_type": "code",
   "execution_count": 27,
   "metadata": {},
   "outputs": [],
   "source": [
    "not_double_digits = [] #this is so bad \n",
    "for i in input_list: \n",
    "    if i[0] == i[1]:\n",
    "        rd.append(i)\n",
    "    if i[0] == i[2]:\n",
    "        rd.append(i) \n",
    "    if i[0] == i[3]:\n",
    "        rd.append(i)\n",
    "    if i[0] == i[4]:\n",
    "        rd.append(i) \n",
    "    if i[0] == i[5]:\n",
    "        rd.append(i)\n",
    "    if i[4] == i[5]:\n",
    "        rd.append(i) \n",
    "    if i[1] == i[2]:\n",
    "        rd.append(i)\n",
    "    if i[1] == i[3]:\n",
    "        rd.append(i) \n",
    "    if i[1] == i[4]:\n",
    "        rd.append(i)\n",
    "    if i[1] == i[5]:\n",
    "        rd.append(i) \n",
    "    if i[2] == i[3]:\n",
    "        rd.append(i)\n",
    "    if i[2] == i[4]:\n",
    "        rd.append(i) \n",
    "    if i[2] == i[5]:\n",
    "        rd.append(i)\n",
    "    if i[3] == i[4]:\n",
    "        rd.append(i)    \n",
    "    if i[3] == i[5]:\n",
    "        rd.append(i)\n",
    "    else: \n",
    "        not_double_digits.append(i)"
   ]
  },
  {
   "cell_type": "code",
   "execution_count": 44,
   "metadata": {},
   "outputs": [
    {
     "data": {
      "text/plain": [
       "747269"
      ]
     },
     "execution_count": 44,
     "metadata": {},
     "output_type": "execute_result"
    }
   ],
   "source": [
    "len(rd) #pick up here tomorrow, this is very wrong. "
   ]
  }
 ],
 "metadata": {
  "kernelspec": {
   "display_name": "Python 3",
   "language": "python",
   "name": "python3"
  },
  "language_info": {
   "codemirror_mode": {
    "name": "ipython",
    "version": 3
   },
   "file_extension": ".py",
   "mimetype": "text/x-python",
   "name": "python",
   "nbconvert_exporter": "python",
   "pygments_lexer": "ipython3",
   "version": "3.7.3"
  }
 },
 "nbformat": 4,
 "nbformat_minor": 2
}
