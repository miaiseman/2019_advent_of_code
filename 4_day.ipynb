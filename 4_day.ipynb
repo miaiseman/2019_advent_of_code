{
 "cells": [
  {
   "cell_type": "markdown",
   "metadata": {},
   "source": [
    "# Day 4: Secure Container\n",
    "## Part 1\n",
    "\n",
    "You arrive at the Venus fuel depot only to discover it's protected by a password. The Elves had written the password on a sticky note, but someone threw it out.  \n",
    "\n",
    "However, they do remember a few key facts about the password:  \n",
    "\n",
    "- It is a six-digit number.  \n",
    "- The value is within the range given in your puzzle input.  \n",
    "- Two adjacent digits are the same (like 22 in 122345).  \n",
    "- Going from left to right, the digits never decrease; they only ever increase or stay the same (like 111123 or 135679).  \n",
    "\n",
    "Other than the range rule, the following are true:  \n",
    "\n",
    "- 111111 meets these criteria (double 11, never decreases).  \n",
    "- 223450 does not meet these criteria (decreasing pair of digits 50).  \n",
    "- 123789 does not meet these criteria (no double). \n",
    "\n",
    "How many different passwords within the range given in your puzzle input meet these criteria?  \n",
    "\n",
    "Your puzzle input is 153517 to 630395.  "
   ]
  },
  {
   "cell_type": "code",
   "execution_count": 214,
   "metadata": {},
   "outputs": [],
   "source": [
    "import numpy as np\n",
    "import itertools"
   ]
  },
  {
   "cell_type": "code",
   "execution_count": 215,
   "metadata": {},
   "outputs": [
    {
     "data": {
      "text/plain": [
       "476878"
      ]
     },
     "execution_count": 215,
     "metadata": {},
     "output_type": "execute_result"
    }
   ],
   "source": [
    "numbers = list(range(153517, 630395))\n",
    "len(numbers) #i should be whittling this number down "
   ]
  },
  {
   "cell_type": "code",
   "execution_count": 216,
   "metadata": {},
   "outputs": [],
   "source": [
    "string_numbers = [str(x) for x in numbers]"
   ]
  },
  {
   "cell_type": "code",
   "execution_count": 217,
   "metadata": {},
   "outputs": [],
   "source": [
    "input_list = [[int(x) for x in i] for i in input_list]"
   ]
  },
  {
   "cell_type": "code",
   "execution_count": 218,
   "metadata": {},
   "outputs": [
    {
     "data": {
      "text/plain": [
       "int"
      ]
     },
     "execution_count": 218,
     "metadata": {},
     "output_type": "execute_result"
    }
   ],
   "source": [
    "type(input_list[0][0]) #i have a list of list of integers"
   ]
  },
  {
   "cell_type": "code",
   "execution_count": 219,
   "metadata": {},
   "outputs": [],
   "source": [
    " def check_asc(number):\n",
    "    \"\"\"Check if the digits in the number ascend.\"\"\"\n",
    "    prev = 0\n",
    "    for digit in number:\n",
    "        if digit < prev:\n",
    "            return False\n",
    "        else: \n",
    "            prev = digit \n",
    "    return True "
   ]
  },
  {
   "cell_type": "code",
   "execution_count": 220,
   "metadata": {},
   "outputs": [
    {
     "name": "stdout",
     "output_type": "stream",
     "text": [
      "all tests pass\n"
     ]
    }
   ],
   "source": [
    "assert check_asc([1,2,3,4,5,6]) == True\n",
    "assert check_asc([1,1,1,1,1,2]) == True\n",
    "assert check_asc([1,2,1,4,5,6]) == False\n",
    "assert check_asc([2,2,2,2,2,2]) == True\n",
    "print ('all tests pass')"
   ]
  },
  {
   "cell_type": "code",
   "execution_count": 221,
   "metadata": {},
   "outputs": [],
   "source": [
    "def whittle_inputs_to_ascending(list_of_list_of_ints):\n",
    "    asc_inputs = []\n",
    "    throw_aways = []\n",
    "    for number in list_of_list_of_ints:\n",
    "        if check_asc(number) == True:\n",
    "            asc_inputs.append(number)\n",
    "        else: \n",
    "            throw_aways.append(number)\n",
    "    return asc_inputs, throw_aways, (len(asc_inputs)+len(throw_aways))\n"
   ]
  },
  {
   "cell_type": "code",
   "execution_count": 222,
   "metadata": {},
   "outputs": [
    {
     "data": {
      "text/plain": [
       "([[1, 2, 3, 4, 5, 6]], [[1, 1, 1, 2, 1, 1]], 2)"
      ]
     },
     "execution_count": 222,
     "metadata": {},
     "output_type": "execute_result"
    }
   ],
   "source": [
    "whittle_inputs_to_ascending([[1,2,3,4,5,6], [1,1,1,2,1,1]])"
   ]
  },
  {
   "cell_type": "code",
   "execution_count": 223,
   "metadata": {},
   "outputs": [],
   "source": [
    "asc_inputs, throw_aways, length_of_inputs = whittle_inputs_to_ascending(input_list)"
   ]
  },
  {
   "cell_type": "code",
   "execution_count": 224,
   "metadata": {},
   "outputs": [
    {
     "data": {
      "text/plain": [
       "True"
      ]
     },
     "execution_count": 224,
     "metadata": {},
     "output_type": "execute_result"
    }
   ],
   "source": [
    "length_of_inputs == len(input_list) #we aren't missing any numbers from our list, successfully separated them "
   ]
  },
  {
   "cell_type": "code",
   "execution_count": 225,
   "metadata": {},
   "outputs": [],
   "source": [
    "asc_inputs = [[str(x) for x in i] for i in asc_inputs]"
   ]
  },
  {
   "cell_type": "code",
   "execution_count": 226,
   "metadata": {},
   "outputs": [
    {
     "data": {
      "text/plain": [
       "str"
      ]
     },
     "execution_count": 226,
     "metadata": {},
     "output_type": "execute_result"
    }
   ],
   "source": [
    "type(asc_inputs[0][0])"
   ]
  },
  {
   "cell_type": "code",
   "execution_count": 227,
   "metadata": {},
   "outputs": [],
   "source": [
    "#check if there are numbers in asc_inputs that have double digits next to each other.\n",
    "\n",
    "def check_cdd(number):\n",
    "    \"\"\"Find consecutive double digit numbers.\"\"\"\n",
    "    for i in range(0,5):\n",
    "        if number[i] == number[i+1]:\n",
    "            return True\n",
    "        else:\n",
    "            pass\n",
    "    return False "
   ]
  },
  {
   "cell_type": "code",
   "execution_count": 228,
   "metadata": {},
   "outputs": [],
   "source": [
    "def whittle_inputs_part_1(input_list):\n",
    "    \"\"\"Use functions to whittle the list down to potential passwords.\"\"\"\n",
    "    passwords = []\n",
    "    throw_aways = []\n",
    "    for number in input_list:\n",
    "        if check_asc(number) == True:\n",
    "            if check_cdd(number)== True:\n",
    "                passwords.append(number)\n",
    "    return passwords"
   ]
  },
  {
   "cell_type": "code",
   "execution_count": 229,
   "metadata": {},
   "outputs": [],
   "source": [
    "passwords_part_1 = whittle_inputs_part_1(input_list)"
   ]
  },
  {
   "cell_type": "code",
   "execution_count": 230,
   "metadata": {},
   "outputs": [
    {
     "data": {
      "text/plain": [
       "1729"
      ]
     },
     "execution_count": 230,
     "metadata": {},
     "output_type": "execute_result"
    }
   ],
   "source": [
    "len(passwords_part_1) #answer to part 1 "
   ]
  },
  {
   "cell_type": "markdown",
   "metadata": {},
   "source": [
    "# Part 2 \n",
    "An elf just remembered one more important detail: the two adjacent matching digits are not part of a larger group of matching digits.\n",
    "\n",
    "Given this additional criterion, but still ignoring the range rule, the following are now true:\n",
    "\n",
    "- 112233 meets these criteria because the digits never decrease and all repeated digits are exactly two digits long.\n",
    "- 123444 no longer meets the criteria (the repeated 44 is part of a larger group of 444).  \n",
    "- 111122 meets the criteria (even though 1 is repeated more than twice, it still contains a double 22).  \n",
    "\n",
    "How many different passwords within the range given in your puzzle input meet all of the given criteria? The input is the same."
   ]
  },
  {
   "cell_type": "code",
   "execution_count": 232,
   "metadata": {},
   "outputs": [
    {
     "ename": "SyntaxError",
     "evalue": "invalid syntax (<ipython-input-232-16ab2b56e492>, line 7)",
     "output_type": "error",
     "traceback": [
      "\u001b[0;36m  File \u001b[0;32m\"<ipython-input-232-16ab2b56e492>\"\u001b[0;36m, line \u001b[0;32m7\u001b[0m\n\u001b[0;31m    if number[i] == number[x] for x in range(0,6):\u001b[0m\n\u001b[0m                                ^\u001b[0m\n\u001b[0;31mSyntaxError\u001b[0m\u001b[0;31m:\u001b[0m invalid syntax\n"
     ]
    }
   ],
   "source": [
    "#check if there is an even number of repeated numbers in our part 1 answer \n",
    "\n",
    "def count_repeated_digits(number):\n",
    "    \"\"\"Count the number of repeated numbers.\"\"\"\n",
    "    counter = 0 \n",
    "    for i in range(0,6):\n",
    "        if number[i] == number[i]\n",
    "            print (number[i])\n",
    "            counter += counter \n",
    "    return counter"
   ]
  },
  {
   "cell_type": "code",
   "execution_count": null,
   "metadata": {},
   "outputs": [],
   "source": []
  },
  {
   "cell_type": "code",
   "execution_count": null,
   "metadata": {},
   "outputs": [],
   "source": []
  },
  {
   "cell_type": "code",
   "execution_count": null,
   "metadata": {},
   "outputs": [],
   "source": []
  },
  {
   "cell_type": "code",
   "execution_count": null,
   "metadata": {},
   "outputs": [],
   "source": []
  },
  {
   "cell_type": "code",
   "execution_count": null,
   "metadata": {},
   "outputs": [],
   "source": []
  },
  {
   "cell_type": "code",
   "execution_count": null,
   "metadata": {},
   "outputs": [],
   "source": []
  },
  {
   "cell_type": "code",
   "execution_count": null,
   "metadata": {},
   "outputs": [],
   "source": []
  }
 ],
 "metadata": {
  "kernelspec": {
   "display_name": "Python 3",
   "language": "python",
   "name": "python3"
  },
  "language_info": {
   "codemirror_mode": {
    "name": "ipython",
    "version": 3
   },
   "file_extension": ".py",
   "mimetype": "text/x-python",
   "name": "python",
   "nbconvert_exporter": "python",
   "pygments_lexer": "ipython3",
   "version": "3.7.3"
  }
 },
 "nbformat": 4,
 "nbformat_minor": 2
}
