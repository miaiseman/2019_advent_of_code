{
 "cells": [
  {
   "cell_type": "code",
   "execution_count": 156,
   "metadata": {},
   "outputs": [
    {
     "data": {
      "text/plain": [
       "'97587\\n100963\\n85693\\n127587\\n147839\\n134075\\n128598\\n91290\\n119100\\n138824\\n56295\\n132118\\n105018\\n143092\\n89032\\n104836\\n138278\\n60416\\n62570\\n142110\\n55179\\n80891\\n99106\\n122863\\n108894\\n112654\\n117175\\n96093\\n76214\\n65412\\n124388\\n66465\\n115850\\n147531\\n87643\\n75882\\n62912\\n76100\\n102120\\n83803\\n139304\\n139325\\n126412\\n145152\\n136247\\n68246\\n130156\\n59097\\n79024\\n62480\\n121847\\n54739\\n118690\\n116247\\n117283\\n144827\\n147562\\n126796\\n148210\\n109099\\n98831\\n59412\\n141077\\n121786\\n142878\\n140144\\n57855\\n59571\\n118451\\n149097\\n145088\\n76882\\n53732\\n70543\\n89874\\n114366\\n115683\\n99139\\n108440\\n76964\\n134451\\n109250\\n66021\\n132683\\n149013\\n122917\\n137810\\n108451\\n109606\\n94396\\n106926\\n100901\\n108587\\n99847\\n64257\\n147162\\n133698\\n140775\\n129466\\n72487\\n'"
      ]
     },
     "execution_count": 156,
     "metadata": {},
     "output_type": "execute_result"
    }
   ],
   "source": [
    "text_file = open('/Users/tjjj/mia/challenges/advent_of_code/1_day.txt').read()\n",
    "text_file"
   ]
  },
  {
   "cell_type": "code",
   "execution_count": 157,
   "metadata": {},
   "outputs": [],
   "source": [
    "modules = text_file.split('\\n')"
   ]
  },
  {
   "cell_type": "code",
   "execution_count": 158,
   "metadata": {},
   "outputs": [
    {
     "data": {
      "text/plain": [
       "['97587',\n",
       " '100963',\n",
       " '85693',\n",
       " '127587',\n",
       " '147839',\n",
       " '134075',\n",
       " '128598',\n",
       " '91290',\n",
       " '119100',\n",
       " '138824',\n",
       " '56295',\n",
       " '132118',\n",
       " '105018',\n",
       " '143092',\n",
       " '89032',\n",
       " '104836',\n",
       " '138278',\n",
       " '60416',\n",
       " '62570',\n",
       " '142110',\n",
       " '55179',\n",
       " '80891',\n",
       " '99106',\n",
       " '122863',\n",
       " '108894',\n",
       " '112654',\n",
       " '117175',\n",
       " '96093',\n",
       " '76214',\n",
       " '65412',\n",
       " '124388',\n",
       " '66465',\n",
       " '115850',\n",
       " '147531',\n",
       " '87643',\n",
       " '75882',\n",
       " '62912',\n",
       " '76100',\n",
       " '102120',\n",
       " '83803',\n",
       " '139304',\n",
       " '139325',\n",
       " '126412',\n",
       " '145152',\n",
       " '136247',\n",
       " '68246',\n",
       " '130156',\n",
       " '59097',\n",
       " '79024',\n",
       " '62480',\n",
       " '121847',\n",
       " '54739',\n",
       " '118690',\n",
       " '116247',\n",
       " '117283',\n",
       " '144827',\n",
       " '147562',\n",
       " '126796',\n",
       " '148210',\n",
       " '109099',\n",
       " '98831',\n",
       " '59412',\n",
       " '141077',\n",
       " '121786',\n",
       " '142878',\n",
       " '140144',\n",
       " '57855',\n",
       " '59571',\n",
       " '118451',\n",
       " '149097',\n",
       " '145088',\n",
       " '76882',\n",
       " '53732',\n",
       " '70543',\n",
       " '89874',\n",
       " '114366',\n",
       " '115683',\n",
       " '99139',\n",
       " '108440',\n",
       " '76964',\n",
       " '134451',\n",
       " '109250',\n",
       " '66021',\n",
       " '132683',\n",
       " '149013',\n",
       " '122917',\n",
       " '137810',\n",
       " '108451',\n",
       " '109606',\n",
       " '94396',\n",
       " '106926',\n",
       " '100901',\n",
       " '108587',\n",
       " '99847',\n",
       " '64257',\n",
       " '147162',\n",
       " '133698',\n",
       " '140775',\n",
       " '129466',\n",
       " '72487',\n",
       " '']"
      ]
     },
     "execution_count": 158,
     "metadata": {},
     "output_type": "execute_result"
    }
   ],
   "source": [
    "modules"
   ]
  },
  {
   "cell_type": "code",
   "execution_count": 159,
   "metadata": {},
   "outputs": [
    {
     "data": {
      "text/plain": [
       "101"
      ]
     },
     "execution_count": 159,
     "metadata": {},
     "output_type": "execute_result"
    }
   ],
   "source": [
    "len(modules)"
   ]
  },
  {
   "cell_type": "code",
   "execution_count": 160,
   "metadata": {},
   "outputs": [],
   "source": [
    "modules = [int(i) for i in modules[0:100]]"
   ]
  },
  {
   "cell_type": "code",
   "execution_count": 161,
   "metadata": {},
   "outputs": [
    {
     "data": {
      "text/plain": [
       "int"
      ]
     },
     "execution_count": 161,
     "metadata": {},
     "output_type": "execute_result"
    }
   ],
   "source": [
    "type(modules[1])"
   ]
  },
  {
   "cell_type": "code",
   "execution_count": 162,
   "metadata": {},
   "outputs": [],
   "source": [
    "import pandas as pd\n",
    "import math "
   ]
  },
  {
   "cell_type": "code",
   "execution_count": 163,
   "metadata": {},
   "outputs": [],
   "source": [
    "df = pd.DataFrame(modules)"
   ]
  },
  {
   "cell_type": "code",
   "execution_count": 164,
   "metadata": {
    "scrolled": true
   },
   "outputs": [],
   "source": [
    "df.rename(columns={0:'mass'}, inplace=True)"
   ]
  },
  {
   "cell_type": "code",
   "execution_count": 165,
   "metadata": {},
   "outputs": [],
   "source": [
    "df['fuel'] = ''"
   ]
  },
  {
   "cell_type": "code",
   "execution_count": 166,
   "metadata": {},
   "outputs": [
    {
     "data": {
      "text/html": [
       "<div>\n",
       "<style scoped>\n",
       "    .dataframe tbody tr th:only-of-type {\n",
       "        vertical-align: middle;\n",
       "    }\n",
       "\n",
       "    .dataframe tbody tr th {\n",
       "        vertical-align: top;\n",
       "    }\n",
       "\n",
       "    .dataframe thead th {\n",
       "        text-align: right;\n",
       "    }\n",
       "</style>\n",
       "<table border=\"1\" class=\"dataframe\">\n",
       "  <thead>\n",
       "    <tr style=\"text-align: right;\">\n",
       "      <th></th>\n",
       "      <th>mass</th>\n",
       "      <th>fuel</th>\n",
       "    </tr>\n",
       "  </thead>\n",
       "  <tbody>\n",
       "    <tr>\n",
       "      <th>0</th>\n",
       "      <td>97587</td>\n",
       "      <td></td>\n",
       "    </tr>\n",
       "    <tr>\n",
       "      <th>1</th>\n",
       "      <td>100963</td>\n",
       "      <td></td>\n",
       "    </tr>\n",
       "    <tr>\n",
       "      <th>2</th>\n",
       "      <td>85693</td>\n",
       "      <td></td>\n",
       "    </tr>\n",
       "    <tr>\n",
       "      <th>3</th>\n",
       "      <td>127587</td>\n",
       "      <td></td>\n",
       "    </tr>\n",
       "    <tr>\n",
       "      <th>4</th>\n",
       "      <td>147839</td>\n",
       "      <td></td>\n",
       "    </tr>\n",
       "  </tbody>\n",
       "</table>\n",
       "</div>"
      ],
      "text/plain": [
       "     mass fuel\n",
       "0   97587     \n",
       "1  100963     \n",
       "2   85693     \n",
       "3  127587     \n",
       "4  147839     "
      ]
     },
     "execution_count": 166,
     "metadata": {},
     "output_type": "execute_result"
    }
   ],
   "source": [
    "df.head()"
   ]
  },
  {
   "cell_type": "code",
   "execution_count": 167,
   "metadata": {},
   "outputs": [
    {
     "data": {
      "text/plain": [
       "49279.666666666664"
      ]
     },
     "execution_count": 167,
     "metadata": {},
     "output_type": "execute_result"
    }
   ],
   "source": [
    "df['mass'][4]/3"
   ]
  },
  {
   "cell_type": "code",
   "execution_count": 168,
   "metadata": {},
   "outputs": [
    {
     "data": {
      "text/plain": [
       "49279"
      ]
     },
     "execution_count": 168,
     "metadata": {},
     "output_type": "execute_result"
    }
   ],
   "source": [
    "math.floor(df['mass'][4]/3)"
   ]
  },
  {
   "cell_type": "code",
   "execution_count": 169,
   "metadata": {},
   "outputs": [],
   "source": [
    "fuel_list = []\n",
    "for i in df['mass']: \n",
    "    fuel_list.append(math.floor((i)/3) - 2)"
   ]
  },
  {
   "cell_type": "code",
   "execution_count": 170,
   "metadata": {},
   "outputs": [
    {
     "data": {
      "text/plain": [
       "[32527,\n",
       " 33652,\n",
       " 28562,\n",
       " 42527,\n",
       " 49277,\n",
       " 44689,\n",
       " 42864,\n",
       " 30428,\n",
       " 39698,\n",
       " 46272,\n",
       " 18763,\n",
       " 44037,\n",
       " 35004,\n",
       " 47695,\n",
       " 29675,\n",
       " 34943,\n",
       " 46090,\n",
       " 20136,\n",
       " 20854,\n",
       " 47368,\n",
       " 18391,\n",
       " 26961,\n",
       " 33033,\n",
       " 40952,\n",
       " 36296,\n",
       " 37549,\n",
       " 39056,\n",
       " 32029,\n",
       " 25402,\n",
       " 21802,\n",
       " 41460,\n",
       " 22153,\n",
       " 38614,\n",
       " 49175,\n",
       " 29212,\n",
       " 25292,\n",
       " 20968,\n",
       " 25364,\n",
       " 34038,\n",
       " 27932,\n",
       " 46432,\n",
       " 46439,\n",
       " 42135,\n",
       " 48382,\n",
       " 45413,\n",
       " 22746,\n",
       " 43383,\n",
       " 19697,\n",
       " 26339,\n",
       " 20824,\n",
       " 40613,\n",
       " 18244,\n",
       " 39561,\n",
       " 38747,\n",
       " 39092,\n",
       " 48273,\n",
       " 49185,\n",
       " 42263,\n",
       " 49401,\n",
       " 36364,\n",
       " 32941,\n",
       " 19802,\n",
       " 47023,\n",
       " 40593,\n",
       " 47624,\n",
       " 46712,\n",
       " 19283,\n",
       " 19855,\n",
       " 39481,\n",
       " 49697,\n",
       " 48360,\n",
       " 25625,\n",
       " 17908,\n",
       " 23512,\n",
       " 29956,\n",
       " 38120,\n",
       " 38559,\n",
       " 33044,\n",
       " 36144,\n",
       " 25652,\n",
       " 44815,\n",
       " 36414,\n",
       " 22005,\n",
       " 44225,\n",
       " 49669,\n",
       " 40970,\n",
       " 45934,\n",
       " 36148,\n",
       " 36533,\n",
       " 31463,\n",
       " 35640,\n",
       " 33631,\n",
       " 36193,\n",
       " 33280,\n",
       " 21417,\n",
       " 49052,\n",
       " 44564,\n",
       " 46923,\n",
       " 43153,\n",
       " 24160]"
      ]
     },
     "execution_count": 170,
     "metadata": {},
     "output_type": "execute_result"
    }
   ],
   "source": [
    "fuel_list"
   ]
  },
  {
   "cell_type": "code",
   "execution_count": 171,
   "metadata": {},
   "outputs": [
    {
     "data": {
      "text/plain": [
       "100"
      ]
     },
     "execution_count": 171,
     "metadata": {},
     "output_type": "execute_result"
    }
   ],
   "source": [
    "len(fuel_list)"
   ]
  },
  {
   "cell_type": "code",
   "execution_count": 172,
   "metadata": {},
   "outputs": [],
   "source": [
    "df['fuel'] = fuel_list"
   ]
  },
  {
   "cell_type": "code",
   "execution_count": 173,
   "metadata": {},
   "outputs": [
    {
     "data": {
      "text/html": [
       "<div>\n",
       "<style scoped>\n",
       "    .dataframe tbody tr th:only-of-type {\n",
       "        vertical-align: middle;\n",
       "    }\n",
       "\n",
       "    .dataframe tbody tr th {\n",
       "        vertical-align: top;\n",
       "    }\n",
       "\n",
       "    .dataframe thead th {\n",
       "        text-align: right;\n",
       "    }\n",
       "</style>\n",
       "<table border=\"1\" class=\"dataframe\">\n",
       "  <thead>\n",
       "    <tr style=\"text-align: right;\">\n",
       "      <th></th>\n",
       "      <th>mass</th>\n",
       "      <th>fuel</th>\n",
       "    </tr>\n",
       "  </thead>\n",
       "  <tbody>\n",
       "    <tr>\n",
       "      <th>0</th>\n",
       "      <td>97587</td>\n",
       "      <td>32527</td>\n",
       "    </tr>\n",
       "    <tr>\n",
       "      <th>1</th>\n",
       "      <td>100963</td>\n",
       "      <td>33652</td>\n",
       "    </tr>\n",
       "    <tr>\n",
       "      <th>2</th>\n",
       "      <td>85693</td>\n",
       "      <td>28562</td>\n",
       "    </tr>\n",
       "    <tr>\n",
       "      <th>3</th>\n",
       "      <td>127587</td>\n",
       "      <td>42527</td>\n",
       "    </tr>\n",
       "    <tr>\n",
       "      <th>4</th>\n",
       "      <td>147839</td>\n",
       "      <td>49277</td>\n",
       "    </tr>\n",
       "  </tbody>\n",
       "</table>\n",
       "</div>"
      ],
      "text/plain": [
       "     mass   fuel\n",
       "0   97587  32527\n",
       "1  100963  33652\n",
       "2   85693  28562\n",
       "3  127587  42527\n",
       "4  147839  49277"
      ]
     },
     "execution_count": 173,
     "metadata": {},
     "output_type": "execute_result"
    }
   ],
   "source": [
    "df.head()"
   ]
  },
  {
   "cell_type": "code",
   "execution_count": 174,
   "metadata": {},
   "outputs": [
    {
     "data": {
      "text/plain": [
       "3560353"
      ]
     },
     "execution_count": 174,
     "metadata": {},
     "output_type": "execute_result"
    }
   ],
   "source": [
    "df['fuel'].sum()"
   ]
  },
  {
   "cell_type": "code",
   "execution_count": 284,
   "metadata": {},
   "outputs": [],
   "source": [
    "def find_fuel(mass):\n",
    "    fuel_mass = math.floor((mass)/3) - 2\n",
    "    if fuel_mass > 2: \n",
    "        find_fuel(mass=fuel_mass) \n",
    "        print (fuel_mass)\n",
    "    elif fuel_mass <=2: \n",
    "        print ('less than 2')\n",
    "    return fuel_mass\n"
   ]
  },
  {
   "cell_type": "code",
   "execution_count": 285,
   "metadata": {},
   "outputs": [
    {
     "name": "stdout",
     "output_type": "stream",
     "text": [
      "less than 2\n",
      "5\n",
      "21\n",
      "70\n",
      "216\n",
      "654\n"
     ]
    },
    {
     "data": {
      "text/plain": [
       "654"
      ]
     },
     "execution_count": 285,
     "metadata": {},
     "output_type": "execute_result"
    }
   ],
   "source": [
    "find_fuel(1969)"
   ]
  },
  {
   "cell_type": "code",
   "execution_count": 311,
   "metadata": {},
   "outputs": [],
   "source": [
    "def find_fuel_2(mass, total_mass=0):\n",
    "    fuel_mass = math.floor((mass)/3) - 2\n",
    "    if fuel_mass > 0: \n",
    "        total_mass = fuel_mass + total_mass\n",
    "        return total_mass\n",
    "        find_fuel_2(mass=fuel_mass, total_mass=total_mass+fuel_mass) \n",
    "    elif fuel_mass <=0: \n",
    "        pass"
   ]
  },
  {
   "cell_type": "code",
   "execution_count": 312,
   "metadata": {},
   "outputs": [
    {
     "ename": "TypeError",
     "evalue": "find_fuel_2() missing 1 required positional argument: 'mass'",
     "output_type": "error",
     "traceback": [
      "\u001b[0;31m---------------------------------------------------------------------------\u001b[0m",
      "\u001b[0;31mTypeError\u001b[0m                                 Traceback (most recent call last)",
      "\u001b[0;32m<ipython-input-312-9b07be43e051>\u001b[0m in \u001b[0;36m<module>\u001b[0;34m\u001b[0m\n\u001b[0;32m----> 1\u001b[0;31m \u001b[0mfind_fuel_2\u001b[0m\u001b[0;34m(\u001b[0m\u001b[0;34m)\u001b[0m\u001b[0;34m\u001b[0m\u001b[0;34m\u001b[0m\u001b[0m\n\u001b[0m",
      "\u001b[0;31mTypeError\u001b[0m: find_fuel_2() missing 1 required positional argument: 'mass'"
     ]
    }
   ],
   "source": [
    "find_fuel_2()"
   ]
  },
  {
   "cell_type": "code",
   "execution_count": null,
   "metadata": {},
   "outputs": [],
   "source": []
  }
 ],
 "metadata": {
  "kernelspec": {
   "display_name": "Python 3",
   "language": "python",
   "name": "python3"
  },
  "language_info": {
   "codemirror_mode": {
    "name": "ipython",
    "version": 3
   },
   "file_extension": ".py",
   "mimetype": "text/x-python",
   "name": "python",
   "nbconvert_exporter": "python",
   "pygments_lexer": "ipython3",
   "version": "3.7.3"
  }
 },
 "nbformat": 4,
 "nbformat_minor": 2
}
